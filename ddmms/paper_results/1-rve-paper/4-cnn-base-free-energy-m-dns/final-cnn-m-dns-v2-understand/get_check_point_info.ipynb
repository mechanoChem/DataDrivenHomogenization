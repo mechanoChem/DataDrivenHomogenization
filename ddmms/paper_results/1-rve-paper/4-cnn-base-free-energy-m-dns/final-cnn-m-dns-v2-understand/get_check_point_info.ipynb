{
 "cells": [
  {
   "cell_type": "code",
   "execution_count": 1,
   "metadata": {},
   "outputs": [
    {
     "name": "stderr",
     "output_type": "stream",
     "text": [
      "/opt/free/Tensorflow/tf-2.0/lib/python3.6/site-packages/tensorflow/python/framework/dtypes.py:516: FutureWarning: Passing (type, 1) or '1type' as a synonym of type is deprecated; in a future version of numpy, it will be understood as (type, (1,)) / '(1,)type'.\n",
      "  _np_qint8 = np.dtype([(\"qint8\", np.int8, 1)])\n",
      "/opt/free/Tensorflow/tf-2.0/lib/python3.6/site-packages/tensorflow/python/framework/dtypes.py:517: FutureWarning: Passing (type, 1) or '1type' as a synonym of type is deprecated; in a future version of numpy, it will be understood as (type, (1,)) / '(1,)type'.\n",
      "  _np_quint8 = np.dtype([(\"quint8\", np.uint8, 1)])\n",
      "/opt/free/Tensorflow/tf-2.0/lib/python3.6/site-packages/tensorflow/python/framework/dtypes.py:518: FutureWarning: Passing (type, 1) or '1type' as a synonym of type is deprecated; in a future version of numpy, it will be understood as (type, (1,)) / '(1,)type'.\n",
      "  _np_qint16 = np.dtype([(\"qint16\", np.int16, 1)])\n",
      "/opt/free/Tensorflow/tf-2.0/lib/python3.6/site-packages/tensorflow/python/framework/dtypes.py:519: FutureWarning: Passing (type, 1) or '1type' as a synonym of type is deprecated; in a future version of numpy, it will be understood as (type, (1,)) / '(1,)type'.\n",
      "  _np_quint16 = np.dtype([(\"quint16\", np.uint16, 1)])\n",
      "/opt/free/Tensorflow/tf-2.0/lib/python3.6/site-packages/tensorflow/python/framework/dtypes.py:520: FutureWarning: Passing (type, 1) or '1type' as a synonym of type is deprecated; in a future version of numpy, it will be understood as (type, (1,)) / '(1,)type'.\n",
      "  _np_qint32 = np.dtype([(\"qint32\", np.int32, 1)])\n",
      "/opt/free/Tensorflow/tf-2.0/lib/python3.6/site-packages/tensorflow/python/framework/dtypes.py:525: FutureWarning: Passing (type, 1) or '1type' as a synonym of type is deprecated; in a future version of numpy, it will be understood as (type, (1,)) / '(1,)type'.\n",
      "  np_resource = np.dtype([(\"resource\", np.ubyte, 1)])\n"
     ]
    },
    {
     "name": "stdout",
     "output_type": "stream",
     "text": [
      "TensorFlow version:  2.0.0-beta0\n",
      "/home/xiaoxuan/Dropbox/2-Codes/projects_python/ddmms/paper_results/1-rve-paper/4-cnn-base-free-energy-m-dns/final-cnn-m-dns-v2-understand\n",
      "... read ... configfile =  cnn-free-energy-m-dns-final.config\n",
      "old root is: <class 'str'> ['']\n",
      "...modifying.. DataFile from:  ../../data/cnn-m-dns-base-free-energy/*.vtk,\n",
      "...modifying.. DataFile to:  /home/xiaoxuan/Dropbox/2-Codes/projects_python/ddmms/paper_results/1-rve-paper/4-cnn-base-free-energy-m-dns/final-cnn-m-dns-v2-understand/../../data/cnn-m-dns-base-free-energy/*.vtk\n",
      "load_all_data\n",
      "*****************WARNING**********************:\n",
      "if have multiple VTK folder and it's the first time to load vtk and save numpy array. There is a\n",
      "potential bug, that after the 1st vtk folder, the following numpy array file is getting bigger \n",
      "and bigger, try to fix this bug next time!!!!!\n",
      "***********************************************\n",
      "load_all_data_from_vtk_database\n",
      "/home/xiaoxuan/Dropbox/2-Codes/projects_python/ddmms/paper_results/1-rve-paper/4-cnn-base-free-energy-m-dns/final-cnn-m-dns-v2-understand/../../data/cnn-m-dns-base-free-energy/*.vtk\n",
      "/home/xiaoxuan/Dropbox/2-Codes/projects_python/ddmms/paper_results/1-rve-paper/4-cnn-base-free-energy-m-dns/final-cnn-m-dns-v2-understand/../../data/cnn-m-dns-base-free-energy/*\n",
      "load saved numpy for the label folder\n",
      "load saved numpy for vtk folder\n",
      "all data :  (17000, 61, 61, 1)\n",
      "the label:  (17000,)\n",
      "all data :  tf.Tensor([17000    61    61     1], shape=(4,), dtype=int32)\n",
      "the label:  tf.Tensor([17000], shape=(1,), dtype=int32)\n",
      "...done with data loading\n",
      "***WARNING***: TF1.x only support label with 1 variable.\n",
      "successfully load saved kfold status files!\n",
      "In the fold:  0  with  train size:  12240 validation size:  3060\n",
      "...done with parameters\n",
      "input_shape: [61 61  1]\n",
      "checkpoint_dir for restart:  ./saved_weight\n",
      "latest checkpoint:  ./saved_weight/cp-10000.ckpt\n",
      "Successfully load weight:  ./saved_weight/cp-10000.ckpt\n"
     ]
    }
   ],
   "source": [
    "# load modules\n",
    "# for legacy python compatibility\n",
    "from __future__ import absolute_import, division, print_function, unicode_literals\n",
    "\n",
    "# # TensorFlow and tf.keras\n",
    "import tensorflow as tf\n",
    "from tensorflow import keras\n",
    "from tensorflow.keras import layers\n",
    "\n",
    "# Helper libraries\n",
    "import numpy as np\n",
    "import matplotlib.pyplot as plt\n",
    "import pandas as pd\n",
    "\n",
    "# disable GPU and only CPU and Warning etc\n",
    "import os, sys\n",
    "\n",
    "import datetime\n",
    "from SALib.analyze import sobol\n",
    "\n",
    "# from tensorflow import feature_column\n",
    "# from sklearn.model_selection import train_test_split\n",
    "# import pathlib\n",
    "# import seaborn as sns\n",
    "\n",
    "import ddmms.help.ml_help as ml_help\n",
    "\n",
    "import ddmms.preprocess.ml_preprocess as ml_preprocess\n",
    "\n",
    "import ddmms.parameters.ml_parameters as ml_parameters\n",
    "import ddmms.parameters.ml_parameters_cnn as ml_parameters_cnn\n",
    "\n",
    "import ddmms.models.ml_models as ml_models\n",
    "import ddmms.models.ml_optimizer as ml_optimizer\n",
    "import ddmms.models.ml_loss as ml_loss\n",
    "\n",
    "import ddmms.postprocess.ml_postprocess as ml_postprocess\n",
    "import ddmms.math.ml_math as ml_math\n",
    "import ddmms.specials.ml_specials as ml_specials\n",
    "\n",
    "import ddmms.misc.ml_misc as ml_misc\n",
    "import ddmms.misc.ml_callbacks as ml_callbacks\n",
    "\n",
    "import ddmms.vis.ml_vis as ml_vis\n",
    "import ddmms.vis.ml_lrp as ml_lrp\n",
    "import ddmms.vis.ml_utils as ml_utils\n",
    "\n",
    "import ddmms.train.ml_kfold as ml_kfold\n",
    "import socket\n",
    "\n",
    "print(\"TensorFlow version: \", tf.__version__)\n",
    "print(os.getcwd())\n",
    "args = ml_help.sys_args()\n",
    "\n",
    "args.configfile = 'cnn-free-energy-m-dns-final.config'\n",
    "\n",
    "if (socket.gethostname() == 'pc256g'):\n",
    "    args.platform = 'cpu'\n",
    "else:\n",
    "    args.platform = 'gpu'\n",
    "args.inspect = 0\n",
    "args.debug = False\n",
    "args.verbose = 1\n",
    "args.show = 0\n",
    "\n",
    "ml_help.notebook_args(args)\n",
    "config = ml_preprocess.read_config_file(args.configfile, args.debug)\n",
    "# train_dataset, train_labels, val_dataset, val_labels, test_dataset, test_labels, test_derivative, train_stats = ml_preprocess.load_and_inspect_data(\n",
    "    # config, args)\n",
    "dataset, labels, derivative, train_stats = ml_preprocess.load_all_data(config, args)\n",
    "\n",
    "str_form = config['FORMAT']['PrintStringForm']\n",
    "epochs = int(config['MODEL']['Epochs'])\n",
    "batch_size = int(config['MODEL']['BatchSize'])\n",
    "verbose = int(config['MODEL']['Verbose'])\n",
    "n_splits = int(config['MODEL']['KFoldTrain'])\n",
    "\n",
    "the_kfolds = ml_kfold.MLKFold(n_splits, dataset)\n",
    "train_dataset, train_labels, val_dataset, val_labels, test_dataset, test_labels, test_derivative = the_kfolds.get_next_fold(\n",
    "    dataset, labels, derivative, final_data=True)\n",
    "\n",
    "#total_model_numbers = parameter.get_model_numbers()\n",
    "print(\"...done with parameters\")\n",
    "model_summary_list = []\n",
    "\n",
    "config['RESTART']['CheckPointDir'] = './saved_weight'\n",
    "config['MODEL']['ParameterID'] = ''\n",
    "checkpoint_dir = config['RESTART']['CheckPointDir'] + config['MODEL']['ParameterID']\n",
    "model_path = checkpoint_dir + '/' + 'model.h5'\n",
    "\n",
    "model = ml_models.build_model(config, train_dataset, train_labels)\n",
    "# https://www.tensorflow.org/versions/r2.0/api_docs/python/tf/keras/Model\n",
    "\n",
    "config['RESTART']['RestartWeight'] = 'Y'\n",
    "epochs = 0\n",
    "\n",
    "if (config['RESTART']['RestartWeight'].lower() == 'y'):\n",
    "    print('checkpoint_dir for restart: ', checkpoint_dir)\n",
    "    latest = tf.train.latest_checkpoint(checkpoint_dir)\n",
    "    print(\"latest checkpoint: \", latest)\n",
    "    # latest=\"/opt/scratch/ml/cnn-hyperelasticity-bvp-2d-conv/restart/cp-2000.ckpt\"\n",
    "    if (latest != None):\n",
    "        model.load_weights(latest)\n",
    "        print(\"Successfully load weight: \", latest)\n",
    "    else:\n",
    "        print(\"No saved weights, start to train the model from the beginning!\")\n",
    "        pass"
   ]
  },
  {
   "cell_type": "code",
   "execution_count": 2,
   "metadata": {},
   "outputs": [
    {
     "name": "stdout",
     "output_type": "stream",
     "text": [
      "--Decay in exponential rate: initial rate =  0.001 , decay steps =  100 , decay_rate =  0.92\n",
      "!!!! Caution: use Learning rate with care, there were occasions that tf1.13 should better performance on training. !!!\n",
      "Avail Optimizer:  ['adam', 'sgd', 'adadelta', 'gradientdescentoptimizer']\n",
      "Avail Loss:  ['mse', 'mae', 'sparse_categorical_crossentropy', 'binary_crossentropy']\n",
      "WARNING:tensorflow:`period` argument is deprecated. Please use `save_freq` to specify the frequency in number of samples seen.\n",
      "WARNING:tensorflow:Entity <bound method CNN_user_supervise.call of <ddmms.models.CNN_user.CNN_user_supervise object at 0x7fb38ce03940>> could not be transformed and will be executed as-is. Please report this to the AutoGraph team. When filing the bug, set the verbosity to 10 (on Linux, `export AUTOGRAPH_VERBOSITY=10`) and attach the full output. Cause: converting <bound method CNN_user_supervise.call of <ddmms.models.CNN_user.CNN_user_supervise object at 0x7fb38ce03940>>: AssertionError: Bad argument number for Name: 3, expecting 4\n",
      "WARNING: Entity <bound method CNN_user_supervise.call of <ddmms.models.CNN_user.CNN_user_supervise object at 0x7fb38ce03940>> could not be transformed and will be executed as-is. Please report this to the AutoGraph team. When filing the bug, set the verbosity to 10 (on Linux, `export AUTOGRAPH_VERBOSITY=10`) and attach the full output. Cause: converting <bound method CNN_user_supervise.call of <ddmms.models.CNN_user.CNN_user_supervise object at 0x7fb38ce03940>>: AssertionError: Bad argument number for Name: 3, expecting 4\n",
      "WARNING:tensorflow:Unused attribute in object (root).input_layer: ['OBJECT_CONFIG_JSON']\n",
      "WARNING:tensorflow:Unused attribute in object (root).output_layer: ['OBJECT_CONFIG_JSON']\n",
      "WARNING:tensorflow:Unused attribute in object (root).encoder_layer.0: ['OBJECT_CONFIG_JSON']\n",
      "WARNING:tensorflow:Unused attribute in object (root).encoder_layer.1: ['OBJECT_CONFIG_JSON']\n",
      "WARNING:tensorflow:Unused attribute in object (root).encoder_layer.2: ['OBJECT_CONFIG_JSON']\n",
      "WARNING:tensorflow:Unused attribute in object (root).encoder_layer.3: ['OBJECT_CONFIG_JSON']\n",
      "WARNING:tensorflow:Unused attribute in object (root).encoder_layer.4: ['OBJECT_CONFIG_JSON']\n",
      "WARNING:tensorflow:Unused attribute in object (root).encoder_layer.5: ['OBJECT_CONFIG_JSON']\n",
      "WARNING:tensorflow:A checkpoint was restored (e.g. tf.train.Checkpoint.restore or tf.keras.Model.load_weights) but not all checkpointed values were used. See above for specific issues. Use expect_partial() on the load status object, e.g. tf.train.Checkpoint.restore(...).expect_partial(), to silence these warnings, or use assert_consumed() to make the check explicit. See https://www.tensorflow.org/alpha/guide/checkpoints#loading_mechanics for details.\n",
      "Train on 13600 samples, validate on 1700 samples\n",
      "Model: \"cnn_user_supervise\"\n",
      "_________________________________________________________________\n",
      "Layer (type)                 Output Shape              Param #   \n",
      "=================================================================\n",
      "conv2d (Conv2D)              multiple                  90        \n",
      "_________________________________________________________________\n",
      "max_pooling2d (MaxPooling2D) multiple                  0         \n",
      "_________________________________________________________________\n",
      "conv2d_1 (Conv2D)            multiple                  1230      \n",
      "_________________________________________________________________\n",
      "max_pooling2d_1 (MaxPooling2 multiple                  0         \n",
      "_________________________________________________________________\n",
      "conv2d_2 (Conv2D)            multiple                  2176      \n",
      "_________________________________________________________________\n",
      "max_pooling2d_2 (MaxPooling2 multiple                  0         \n",
      "_________________________________________________________________\n",
      "flatten (Flatten)            multiple                  0         \n",
      "_________________________________________________________________\n",
      "output (Dense)               multiple                  1025      \n",
      "=================================================================\n",
      "Total params: 4,521\n",
      "Trainable params: 4,521\n",
      "Non-trainable params: 0\n",
      "_________________________________________________________________\n"
     ]
    }
   ],
   "source": [
    "metrics = ml_misc.getlist_str(config['MODEL']['Metrics'])\n",
    "optimizer = ml_optimizer.build_optimizer(config)\n",
    "loss = ml_loss.build_loss(config)\n",
    "model.compile(loss=loss, optimizer=optimizer, metrics=metrics)\n",
    "\n",
    "callbacks = ml_callbacks.build_callbacks(config)\n",
    "# print(type(train_dataset))\n",
    "history = model.fit(\n",
    "    train_dataset,\n",
    "    train_labels,\n",
    "    epochs=epochs,\n",
    "    batch_size=batch_size,\n",
    "    validation_data=(val_dataset, val_labels),    # or validation_split= 0.1,\n",
    "    verbose=verbose,\n",
    "    callbacks=callbacks)\n",
    "# print(tf.keras.backend.eval(optimizer.lr))\n",
    "# print(model.optimizer.lr.get_value())\n",
    "\n",
    "model.summary()"
   ]
  },
  {
   "cell_type": "code",
   "execution_count": 3,
   "metadata": {},
   "outputs": [
    {
     "name": "stdout",
     "output_type": "stream",
     "text": [
      "<class 'list'>\n",
      "[[[[ 0.07602163 -0.01880752  0.01396543  0.04265527  0.01530066\n",
      "    -0.10432114 -0.0279536  -0.0225498  -0.06724264]]\n",
      "\n",
      "  [[-0.16086046  0.02340019  0.03064532 -0.16547589 -0.06455952\n",
      "    -0.21447279  0.06345093 -0.07974333  0.20230874]]\n",
      "\n",
      "  [[-0.04203591  0.01946978 -0.12795053  0.1045898   0.07534903\n",
      "    -0.17011875  0.02985107  0.0712286  -0.09103958]]]\n",
      "\n",
      "\n",
      " [[[-0.01341635 -0.01045474 -0.00498581 -0.0085035   0.1039461\n",
      "    -0.28239334 -0.07225559 -0.0407545   0.153601  ]]\n",
      "\n",
      "  [[ 0.14799991  0.10632347  0.01853522  0.0277677  -0.0968059\n",
      "     0.01486046 -0.04228484  0.05904214 -0.04082227]]\n",
      "\n",
      "  [[ 0.05944447 -0.11432603  0.01144398 -0.20638613  0.00433754\n",
      "    -0.09209779  0.0719232   0.09266514  0.06940357]]]\n",
      "\n",
      "\n",
      " [[[-0.24107936 -0.02245095  0.11653771 -0.03733529  0.07999161\n",
      "     0.11453234  0.04312678  0.01882729 -0.11189631]]\n",
      "\n",
      "  [[ 0.29231733  0.02376317 -0.02783814  0.01773102  0.00538017\n",
      "    -0.14544392 -0.09791135  0.00261834 -0.04883843]]\n",
      "\n",
      "  [[-0.18964675  0.01811535  0.03056368  0.0517944  -0.02661573\n",
      "     0.03038843  0.08557769  0.03113726 -0.05011647]]]]\n"
     ]
    }
   ],
   "source": [
    "all_weights = model.get_weights()\n",
    "print(type(all_weights))\n",
    "print(all_weights[0])"
   ]
  },
  {
   "cell_type": "code",
   "execution_count": 4,
   "metadata": {},
   "outputs": [
    {
     "name": "stdout",
     "output_type": "stream",
     "text": [
      "<class 'numpy.ndarray'> tf.Tensor([3 3 1 9], shape=(4,), dtype=int32)\n"
     ]
    }
   ],
   "source": [
    "print(type(all_weights[0]), tf.shape(all_weights[0]))"
   ]
  },
  {
   "cell_type": "code",
   "execution_count": 5,
   "metadata": {},
   "outputs": [
    {
     "name": "stdout",
     "output_type": "stream",
     "text": [
      "0\n",
      "[[ 0.07602163 -0.16086046 -0.04203591]\n",
      " [-0.01341635  0.14799991  0.05944447]\n",
      " [-0.24107936  0.29231733 -0.18964675]]\n",
      "1\n",
      "[[-0.01880752  0.02340019  0.01946978]\n",
      " [-0.01045474  0.10632347 -0.11432603]\n",
      " [-0.02245095  0.02376317  0.01811535]]\n",
      "2\n",
      "[[ 0.01396543  0.03064532 -0.12795053]\n",
      " [-0.00498581  0.01853522  0.01144398]\n",
      " [ 0.11653771 -0.02783814  0.03056368]]\n",
      "3\n",
      "[[ 0.04265527 -0.16547589  0.1045898 ]\n",
      " [-0.0085035   0.0277677  -0.20638613]\n",
      " [-0.03733529  0.01773102  0.0517944 ]]\n",
      "4\n",
      "[[ 0.01530066 -0.06455952  0.07534903]\n",
      " [ 0.1039461  -0.0968059   0.00433754]\n",
      " [ 0.07999161  0.00538017 -0.02661573]]\n",
      "5\n",
      "[[-0.10432114 -0.21447279 -0.17011875]\n",
      " [-0.28239334  0.01486046 -0.09209779]\n",
      " [ 0.11453234 -0.14544392  0.03038843]]\n",
      "6\n",
      "[[-0.0279536   0.06345093  0.02985107]\n",
      " [-0.07225559 -0.04228484  0.0719232 ]\n",
      " [ 0.04312678 -0.09791135  0.08557769]]\n",
      "7\n",
      "[[-0.0225498  -0.07974333  0.0712286 ]\n",
      " [-0.0407545   0.05904214  0.09266514]\n",
      " [ 0.01882729  0.00261834  0.03113726]]\n",
      "8\n",
      "[[-0.06724264  0.20230874 -0.09103958]\n",
      " [ 0.153601   -0.04082227  0.06940357]\n",
      " [-0.11189631 -0.04883843 -0.05011647]]\n"
     ]
    }
   ],
   "source": [
    "for i in range(0,9):\n",
    "    print(i)\n",
    "    print(all_weights[0][:,:,0,i])"
   ]
  },
  {
   "cell_type": "code",
   "execution_count": 16,
   "metadata": {},
   "outputs": [
    {
     "name": "stdout",
     "output_type": "stream",
     "text": [
      "[[[[ 0.04265527]]\n",
      "\n",
      "  [[-0.16547589]]\n",
      "\n",
      "  [[ 0.1045898 ]]]\n",
      "\n",
      "\n",
      " [[[-0.0085035 ]]\n",
      "\n",
      "  [[ 0.0277677 ]]\n",
      "\n",
      "  [[-0.20638613]]]\n",
      "\n",
      "\n",
      " [[[-0.03733529]]\n",
      "\n",
      "  [[ 0.01773102]]\n",
      "\n",
      "  [[ 0.0517944 ]]]]\n"
     ]
    }
   ],
   "source": [
    "filter4 = all_weights[0][:,:,0:1,3:4]\n",
    "print(filter4)"
   ]
  },
  {
   "cell_type": "code",
   "execution_count": 28,
   "metadata": {},
   "outputs": [
    {
     "name": "stdout",
     "output_type": "stream",
     "text": [
      "(5, 61, 61, 1)\n",
      "tf.Tensor([ 5 61 61  1], shape=(4,), dtype=int32)\n"
     ]
    }
   ],
   "source": [
    "oneM = np.load('m1.npy')\n",
    "print(np.shape(oneM))\n",
    "output = tf.nn.conv2d(\n",
    "    oneM,\n",
    "    filters=filter4,\n",
    "    strides=(1,1),\n",
    "    padding='SAME',\n",
    "    name='a',\n",
    ")\n",
    "output = tf.nn.relu(output)\n",
    "\n",
    "print(tf.shape(output))\n",
    "out1 = output[0,:,:,0]"
   ]
  },
  {
   "cell_type": "code",
   "execution_count": 29,
   "metadata": {},
   "outputs": [
    {
     "name": "stdout",
     "output_type": "stream",
     "text": [
      "tf.Tensor(\n",
      "[[0. 0. 0. ... 0. 0. 0.]\n",
      " [0. 0. 0. ... 0. 0. 0.]\n",
      " [0. 0. 0. ... 0. 0. 0.]\n",
      " ...\n",
      " [0. 0. 0. ... 0. 0. 0.]\n",
      " [0. 0. 0. ... 0. 0. 0.]\n",
      " [0. 0. 0. ... 0. 0. 0.]], shape=(61, 61), dtype=float32)\n"
     ]
    },
    {
     "data": {
      "image/png": "[encoded data removed]",
      "text/plain": [
       "<Figure size 432x288 with 1 Axes>"
      ]
     },
     "metadata": {
      "needs_background": "light"
     },
     "output_type": "display_data"
    }
   ],
   "source": [
    "print(out1)\n",
    "plt.imshow(out1)\n",
    "plt.gray()\n",
    "plt.show()"
   ]
  }
 ],
 "metadata": {
  "kernelspec": {
   "display_name": "Python 3",
   "language": "python",
   "name": "python3"
  },
  "language_info": {
   "codemirror_mode": {
    "name": "ipython",
    "version": 3
   },
   "file_extension": ".py",
   "mimetype": "text/x-python",
   "name": "python",
   "nbconvert_exporter": "python",
   "pygments_lexer": "ipython3",
   "version": "3.6.7"
  }
 },
 "nbformat": 4,
 "nbformat_minor": 2
}
